{
 "cells": [
  {
   "cell_type": "code",
   "execution_count": null,
   "id": "cc3ec590-5a03-4ee8-88e3-ed2c6fa0df2c",
   "metadata": {},
   "outputs": [],
   "source": []
  }
 ],
 "metadata": {
  "kernelspec": {
   "display_name": "",
   "name": ""
  },
  "language_info": {
   "name": ""
  }
 },
 "nbformat": 4,
 "nbformat_minor": 5
}
