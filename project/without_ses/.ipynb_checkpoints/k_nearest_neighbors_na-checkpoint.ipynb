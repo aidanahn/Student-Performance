{
 "cells": [
  {
   "cell_type": "code",
   "execution_count": 1,
   "id": "9058fd32-7d9f-4897-a93c-be215f279fe6",
   "metadata": {},
   "outputs": [],
   "source": [
    "# Download dependencies here\n"
   ]
  },
  {
   "cell_type": "code",
   "execution_count": 2,
   "id": "ffcb93d5-6277-4a00-aef2-684048ee6e5d",
   "metadata": {},
   "outputs": [],
   "source": [
    "# Importing the libraries \n",
    "import pandas as pd\n",
    "from sklearn.model_selection import train_test_split"
   ]
  },
  {
   "cell_type": "code",
   "execution_count": 3,
   "id": "bcb3bb6b-9404-4828-8cb4-e9e6c0578696",
   "metadata": {},
   "outputs": [],
   "source": [
    "pd.set_option('display.max_columns', None)  "
   ]
  },
  {
   "cell_type": "code",
   "execution_count": 4,
   "id": "71b9c2c5-2877-4464-8ad3-8f99e0a4b4b2",
   "metadata": {},
   "outputs": [],
   "source": [
    "%store -r df"
   ]
  },
  {
   "cell_type": "code",
   "execution_count": 5,
   "id": "aa2d9723-34c4-4851-881e-b0c749b81946",
   "metadata": {},
   "outputs": [],
   "source": [
    "X = df.drop(columns=['Overall'])\n",
    "y = df['Overall']\n",
    "X_train, X_test, y_train, y_test = train_test_split(X, y, test_size=0.2, random_state=42)"
   ]
  }
 ],
 "metadata": {
  "kernelspec": {
   "display_name": "Python 3 (ipykernel)",
   "language": "python",
   "name": "python3"
  },
  "language_info": {
   "codemirror_mode": {
    "name": "ipython",
    "version": 3
   },
   "file_extension": ".py",
   "mimetype": "text/x-python",
   "name": "python",
   "nbconvert_exporter": "python",
   "pygments_lexer": "ipython3",
   "version": "3.12.7"
  }
 },
 "nbformat": 4,
 "nbformat_minor": 5
}
