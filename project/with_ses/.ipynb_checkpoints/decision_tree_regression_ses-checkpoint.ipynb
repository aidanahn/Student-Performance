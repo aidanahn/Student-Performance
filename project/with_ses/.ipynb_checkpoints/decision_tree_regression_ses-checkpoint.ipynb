{
 "cells": [
  {
   "cell_type": "code",
   "execution_count": 1,
   "id": "50c99ba3-b6ae-480f-b690-7976345d3742",
   "metadata": {},
   "outputs": [],
   "source": [
    "# Download dependencies here\n"
   ]
  },
  {
   "cell_type": "code",
   "execution_count": 2,
   "id": "1eb4cc9a-d9c3-4e9c-ba8b-3278008e5f76",
   "metadata": {},
   "outputs": [],
   "source": [
    "# Importing the libraries \n",
    "import pandas as pd\n",
    "from sklearn.model_selection import train_test_split\n",
    "from sklearn.tree import DecisionTreeRegressor\n",
    "from sklearn.metrics import mean_squared_error, r2_score\n",
    "import numpy as np"
   ]
  },
  {
   "cell_type": "code",
   "execution_count": 3,
   "id": "5f865932-3015-4c35-828a-676ad5b8465b",
   "metadata": {},
   "outputs": [],
   "source": [
    "pd.set_option('display.max_columns', None)  "
   ]
  },
  {
   "cell_type": "code",
   "execution_count": 4,
   "id": "8d4eed71-a704-4b6f-abd3-82e5646718cd",
   "metadata": {},
   "outputs": [],
   "source": [
    "%store -r df"
   ]
  },
  {
   "cell_type": "code",
   "execution_count": 5,
   "id": "851627cc-62be-45d2-b588-d131409cc3e8",
   "metadata": {},
   "outputs": [],
   "source": [
    "X = df.drop(columns=['Overall'])\n",
    "y = df['Overall']\n",
    "X_train, X_test, y_train, y_test = train_test_split(X, y, test_size=0.2, random_state=42)"
   ]
  },
  {
   "cell_type": "code",
   "execution_count": 6,
   "id": "be552af4-84f8-4243-a597-0d3df259bf80",
   "metadata": {},
   "outputs": [],
   "source": [
    "regressor = DecisionTreeRegressor(random_state = 42, max_depth=10)\n",
    "\n",
    "regressor.fit(X_train, y_train)\n",
    "\n",
    "y_pred = regressor.predict(X_test)"
   ]
  },
  {
   "cell_type": "code",
   "execution_count": 7,
   "id": "e4d47dcb-3f44-40d9-a192-e88088bd3c1d",
   "metadata": {},
   "outputs": [
    {
     "name": "stdout",
     "output_type": "stream",
     "text": [
      "Root Mean Squared Error: 0.17877009844742736\n",
      "R-squared: 0.9143945867951639\n"
     ]
    }
   ],
   "source": [
    "rmse = np.sqrt(mean_squared_error(y_test, y_pred))\n",
    "r2 = r2_score(y_test, y_pred)\n",
    "\n",
    "print(f\"Root Mean Squared Error: {rmse}\")\n",
    "print(f\"R-squared: {r2}\")"
   ]
  },
  {
   "cell_type": "code",
   "execution_count": 8,
   "id": "b093a3dd-fc26-415c-9183-6db685f21e44",
   "metadata": {},
   "outputs": [],
   "source": [
    "# Root Mean Squared Error: 0.23116088236410917\n",
    "# R-squared: 0.8568668739781621"
   ]
  }
 ],
 "metadata": {
  "kernelspec": {
   "display_name": "Python 3 (ipykernel)",
   "language": "python",
   "name": "python3"
  },
  "language_info": {
   "codemirror_mode": {
    "name": "ipython",
    "version": 3
   },
   "file_extension": ".py",
   "mimetype": "text/x-python",
   "name": "python",
   "nbconvert_exporter": "python",
   "pygments_lexer": "ipython3",
   "version": "3.12.7"
  }
 },
 "nbformat": 4,
 "nbformat_minor": 5
}
