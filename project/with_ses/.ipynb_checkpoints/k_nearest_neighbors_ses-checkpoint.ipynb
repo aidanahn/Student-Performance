{
 "cells": [
  {
   "cell_type": "code",
   "execution_count": 1,
   "id": "3ebb5b34-128b-4a91-812d-9b07a4548100",
   "metadata": {},
   "outputs": [],
   "source": [
    "# Download dependencies here\n"
   ]
  },
  {
   "cell_type": "code",
   "execution_count": 2,
   "id": "1c75da8c-8e09-4723-8f58-868154acd046",
   "metadata": {},
   "outputs": [],
   "source": [
    "# Importing the libraries \n",
    "import pandas as pd\n",
    "from sklearn.model_selection import train_test_split"
   ]
  },
  {
   "cell_type": "code",
   "execution_count": 3,
   "id": "e3e2d3d1-ee20-40ad-9e7a-8ed9f907cfa4",
   "metadata": {},
   "outputs": [],
   "source": [
    "pd.set_option('display.max_columns', None)  "
   ]
  },
  {
   "cell_type": "code",
   "execution_count": 4,
   "id": "2a8cec62-8f24-479b-b699-2d30e0ace866",
   "metadata": {},
   "outputs": [],
   "source": [
    "%store -r df"
   ]
  },
  {
   "cell_type": "code",
   "execution_count": 5,
   "id": "83d5f8d7-f137-4b43-9c2d-faecbd92f9a4",
   "metadata": {},
   "outputs": [],
   "source": [
    "X = df.drop(columns=['Overall'])\n",
    "y = df['Overall']\n",
    "X_train, X_test, y_train, y_test = train_test_split(X, y, test_size=0.2, random_state=42)"
   ]
  }
 ],
 "metadata": {
  "kernelspec": {
   "display_name": "Python 3 (ipykernel)",
   "language": "python",
   "name": "python3"
  },
  "language_info": {
   "codemirror_mode": {
    "name": "ipython",
    "version": 3
   },
   "file_extension": ".py",
   "mimetype": "text/x-python",
   "name": "python",
   "nbconvert_exporter": "python",
   "pygments_lexer": "ipython3",
   "version": "3.12.7"
  }
 },
 "nbformat": 4,
 "nbformat_minor": 5
}
