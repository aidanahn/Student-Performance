{
 "cells": [
  {
   "cell_type": "code",
   "execution_count": 1,
   "id": "c1d21c69-7097-4bdf-92ba-c05f3c532e70",
   "metadata": {},
   "outputs": [],
   "source": [
    "# Download dependencies here\n"
   ]
  },
  {
   "cell_type": "code",
   "execution_count": 2,
   "id": "a412590f-0cd5-472f-ade7-50d3e42d542f",
   "metadata": {},
   "outputs": [],
   "source": [
    "# Importing the libraries \n",
    "import pandas as pd\n",
    "from sklearn.model_selection import train_test_split"
   ]
  },
  {
   "cell_type": "code",
   "execution_count": 3,
   "id": "85dc47ce-bcf2-4aea-9b95-f20cec5f5c09",
   "metadata": {},
   "outputs": [],
   "source": [
    "pd.set_option('display.max_columns', None)  "
   ]
  },
  {
   "cell_type": "code",
   "execution_count": 4,
   "id": "1ca803d2-d1bc-4855-9c41-093c5ad94ed5",
   "metadata": {},
   "outputs": [],
   "source": [
    "%store -r df"
   ]
  },
  {
   "cell_type": "code",
   "execution_count": 5,
   "id": "bb4f5ff0-deba-40c7-a37e-6d2fdf9134a2",
   "metadata": {},
   "outputs": [],
   "source": [
    "X = df.drop(columns=['Overall'])\n",
    "y = df['Overall']\n",
    "X_train, X_test, y_train, y_test = train_test_split(X, y, test_size=0.2, random_state=42)"
   ]
  }
 ],
 "metadata": {
  "kernelspec": {
   "display_name": "Python 3 (ipykernel)",
   "language": "python",
   "name": "python3"
  },
  "language_info": {
   "codemirror_mode": {
    "name": "ipython",
    "version": 3
   },
   "file_extension": ".py",
   "mimetype": "text/x-python",
   "name": "python",
   "nbconvert_exporter": "python",
   "pygments_lexer": "ipython3",
   "version": "3.12.7"
  }
 },
 "nbformat": 4,
 "nbformat_minor": 5
}
