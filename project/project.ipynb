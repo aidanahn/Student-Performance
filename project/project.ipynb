{
 "cells": [
  {
   "cell_type": "code",
   "execution_count": null,
   "id": "6044ea57-1738-4eac-b591-607bb48d01f1",
   "metadata": {},
   "outputs": [],
   "source": [
    "# Download dependencies here\n"
   ]
  },
  {
   "cell_type": "code",
   "execution_count": null,
   "id": "6046b4b9-df60-4ce3-89ae-6a5e19cb4ffb",
   "metadata": {},
   "outputs": [],
   "source": [
    "# Libraries\n",
    "import pandas as pd\n",
    "from sklearn.preprocessing import OneHotEncoder\n",
    "from sklearn.preprocessing import OrdinalEncoder"
   ]
  },
  {
   "cell_type": "code",
   "execution_count": null,
   "id": "5abf443b-7830-4b13-b1a4-71506ee0dc9d",
   "metadata": {},
   "outputs": [],
   "source": [
    "pd.set_option('display.max_columns', None)  "
   ]
  },
  {
   "cell_type": "code",
   "execution_count": null,
   "id": "ca99a83b-5a0c-4ccb-8fc7-d871cb953dac",
   "metadata": {},
   "outputs": [],
   "source": [
    "# Importing dataset\n",
    "df = pd.read_csv('../datasets/Student_Performance_Metrics_Dataset/ResearchInformation3.csv')"
   ]
  },
  {
   "cell_type": "code",
   "execution_count": null,
   "id": "b2b49c3d-3d4c-4362-b2ce-97ca256aae1a",
   "metadata": {},
   "outputs": [],
   "source": [
    "df.head()"
   ]
  },
  {
   "cell_type": "code",
   "execution_count": null,
   "id": "1bb6ecb3-5d96-4065-95d9-ece020676af6",
   "metadata": {},
   "outputs": [],
   "source": [
    "df.info()"
   ]
  },
  {
   "cell_type": "code",
   "execution_count": null,
   "id": "9aa090dd-99de-4e32-a766-bfc57bb9d22c",
   "metadata": {},
   "outputs": [],
   "source": [
    "encoder = OneHotEncoder(sparse_output=False)\n",
    "\n",
    "encoded_columns = encoder.fit_transform(df[['Department']])\n",
    "\n",
    "df_encoded = pd.DataFrame(\n",
    "    encoded_columns,\n",
    "    columns = encoder.get_feature_names_out(['Department'])\n",
    ")\n",
    "\n",
    "df = pd.concat([df, df_encoded], axis=1).drop('Department', axis=1)"
   ]
  },
  {
   "cell_type": "code",
   "execution_count": null,
   "id": "55755542-5ae2-43c8-94af-846b1b3af1f7",
   "metadata": {},
   "outputs": [],
   "source": [
    "encoder = OneHotEncoder(sparse_output=False)\n",
    "\n",
    "encoded_columns = encoder.fit_transform(df[['Gender']])\n",
    "\n",
    "df_encoded = pd.DataFrame(\n",
    "    encoded_columns,\n",
    "    columns = encoder.get_feature_names_out(['Gender'])\n",
    ")\n",
    "\n",
    "df = pd.concat([df, df_encoded], axis=1).drop('Gender', axis=1)"
   ]
  },
  {
   "cell_type": "code",
   "execution_count": null,
   "id": "231413c0-fddb-414d-b429-524430db82cf",
   "metadata": {},
   "outputs": [],
   "source": [
    "df = df.apply(lambda x: x.str.strip() if x.dtype == \"object\" else x)"
   ]
  },
  {
   "cell_type": "code",
   "execution_count": null,
   "id": "b1184cbe-b672-4145-9f90-f7ecb035e994",
   "metadata": {},
   "outputs": [],
   "source": [
    "ordinal_encoder = OrdinalEncoder(categories = [['Low (Below 15,000)', 'Lower middle (15,000-30,000)', 'Upper middle (30,000-50,000)', 'High (Above 50,000)']])\n",
    "df['Income']= ordinal_encoder.fit_transform(df[['Income']])"
   ]
  },
  {
   "cell_type": "code",
   "execution_count": null,
   "id": "53ebe342-5db9-4973-9b21-cbccd4e44f78",
   "metadata": {},
   "outputs": [],
   "source": [
    "ordinal_encoder = OrdinalEncoder(categories = [['Village', 'City']])\n",
    "df['Hometown']= ordinal_encoder.fit_transform(df[['Hometown']])"
   ]
  },
  {
   "cell_type": "code",
   "execution_count": null,
   "id": "1fe6e7d6-9b1d-4e59-b95f-e1246c2ec5f1",
   "metadata": {},
   "outputs": [],
   "source": [
    "ordinal_encoder = OrdinalEncoder(categories = [['0-1 Hour', '2-3 Hours', 'More than 3 Hours']])\n",
    "df['Preparation']= ordinal_encoder.fit_transform(df[['Preparation']])\n",
    "df['Gaming']= ordinal_encoder.fit_transform(df[['Gaming']])"
   ]
  },
  {
   "cell_type": "code",
   "execution_count": null,
   "id": "1acebd1a-f833-437d-a23f-d34770aa004b",
   "metadata": {},
   "outputs": [],
   "source": [
    "ordinal_encoder = OrdinalEncoder(categories = [['Below 40%', '40%-59%', '60%-79%', '80%-100%']])\n",
    "df['Attendance']= ordinal_encoder.fit_transform(df[['Attendance']])"
   ]
  },
  {
   "cell_type": "code",
   "execution_count": null,
   "id": "0cbe747a-e358-42a2-a24a-1564ace0c3ca",
   "metadata": {},
   "outputs": [],
   "source": [
    "ordinal_encoder = OrdinalEncoder(categories = [['2nd', '3rd', '4th', '5th', '6th', '7th', '8th', '9th', '10th', '11th', '12th']])\n",
    "df['Semester']= ordinal_encoder.fit_transform(df[['Semester']])"
   ]
  },
  {
   "cell_type": "code",
   "execution_count": null,
   "id": "51e70271-631f-4f1a-974f-bae2b1d8ad64",
   "metadata": {},
   "outputs": [],
   "source": [
    "ordinal_encoder = OrdinalEncoder(categories = [['No', 'Yes']])\n",
    "df['Job']= ordinal_encoder.fit_transform(df[['Job']])"
   ]
  },
  {
   "cell_type": "code",
   "execution_count": null,
   "id": "947e9dfc-4fb5-4d4c-a631-7ca86c2f9bd8",
   "metadata": {},
   "outputs": [],
   "source": [
    "ordinal_encoder = OrdinalEncoder(categories = [['No', 'Yes']])\n",
    "df['Extra']= ordinal_encoder.fit_transform(df[['Extra']])"
   ]
  },
  {
   "cell_type": "code",
   "execution_count": null,
   "id": "4290f582-a239-4243-a3de-29d5dd18efb7",
   "metadata": {},
   "outputs": [],
   "source": [
    "df.head(5)"
   ]
  },
  {
   "cell_type": "code",
   "execution_count": null,
   "id": "12b375c9-73e7-428d-ad18-496ece90641f",
   "metadata": {},
   "outputs": [],
   "source": [
    "%store df"
   ]
  }
 ],
 "metadata": {
  "kernelspec": {
   "display_name": "Python 3 (ipykernel)",
   "language": "python",
   "name": "python3"
  },
  "language_info": {
   "codemirror_mode": {
    "name": "ipython",
    "version": 3
   },
   "file_extension": ".py",
   "mimetype": "text/x-python",
   "name": "python",
   "nbconvert_exporter": "python",
   "pygments_lexer": "ipython3",
   "version": "3.12.7"
  }
 },
 "nbformat": 4,
 "nbformat_minor": 5
}
