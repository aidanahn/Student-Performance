{
 "cells": [
  {
   "cell_type": "code",
   "execution_count": null,
   "id": "6046b4b9-df60-4ce3-89ae-6a5e19cb4ffb",
   "metadata": {},
   "outputs": [],
   "source": []
  }
 ],
 "metadata": {
  "kernelspec": {
   "display_name": "",
   "name": ""
  },
  "language_info": {
   "name": ""
  }
 },
 "nbformat": 4,
 "nbformat_minor": 5
}
